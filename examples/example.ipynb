{
 "cells": [
  {
   "cell_type": "code",
   "execution_count": 1,
   "id": "946e5768",
   "metadata": {},
   "outputs": [],
   "source": [
    "import matplotlib.pyplot as plt\n",
    "%matplotlib inline\n",
    "import cosmosis\n",
    "import os\n",
    "import numpy as np"
   ]
  },
  {
   "cell_type": "code",
   "execution_count": 2,
   "id": "db8c289b",
   "metadata": {},
   "outputs": [
    {
     "name": "stdout",
     "output_type": "stream",
     "text": [
      "Switching to directory above to run examples\n"
     ]
    }
   ],
   "source": [
    "dirname = os.getcwd()\n",
    "if os.getcwd().endswith(\"cosmosis-standard-library\" + os.path.sep + \"examples\"):\n",
    "    print(\"Switching to directory above to run examples\")\n",
    "    os.chdir(os.path.pardir)"
   ]
  },
  {
   "cell_type": "markdown",
   "id": "286643db",
   "metadata": {},
   "source": [
    "---\n",
    "\n",
    "Basic usage\n",
    "==========\n",
    "\n",
    "The usual way to run CosmoSIS is by writing several parameter files.  Let's run an example analysis: an example of fitting Supernova data using the \"emcee\" sampling method.\n",
    "\n",
    "(If you get a message starting \"You told me to resume the chain ...\" then don't worry, it just means you've already run this example so the results already exist).\n",
    "\n",
    "This is equivalent to running on the command line: `cosmosis examples/pantheon.ini`."
   ]
  },
  {
   "cell_type": "code",
   "execution_count": 3,
   "id": "6d71cda9",
   "metadata": {},
   "outputs": [
    {
     "name": "stderr",
     "output_type": "stream",
     "text": [
      "Deprecated: The [pipeline] quiet option is deprecated.  Set [runtime] verbosity instead.\n"
     ]
    },
    {
     "name": "stdout",
     "output_type": "stream",
     "text": [
      "Setting up pipeline from parameter file examples/pantheon.ini\n",
      "-------------------------------------------------------------\n"
     ]
    },
    {
     "name": "stderr",
     "output_type": "stream",
     "text": [
      "Setup all pipeline modules\n",
      "\n"
     ]
    },
    {
     "name": "stdout",
     "output_type": "stream",
     "text": [
      "Loading Pantheon data from /Users/jzuntz/src/cosmosis/cosmosis-standard-library/likelihood/pantheon/lcparam_DS17f.txt\n",
      "Found 40 Pantheon supernovae (or bins if you used the binned data file)\n",
      "Loading Pantheon covariance from /Users/jzuntz/src/cosmosis/cosmosis-standard-library/likelihood/pantheon/sys_DS17f.txt\n",
      "Likelihood \"riess21\" will be Gaussian 0.732 +/- 0.013 \n",
      "\n",
      "Parameter Priors\n",
      "----------------\n",
      "cosmological_parameters--omega_m  ~ U(0.15, 0.4)\n",
      "cosmological_parameters--h0       ~ U(0.6, 0.8)\n",
      "cosmological_parameters--w        ~ delta(-1.0)\n",
      "cosmological_parameters--omega_b  ~ delta(0.04)\n",
      "cosmological_parameters--omega_k  ~ U(-0.3, 0.3)\n",
      "cosmological_parameters--a_s      ~ delta(2e-09)\n",
      "cosmological_parameters--n_s      ~ delta(1.0)\n",
      "cosmological_parameters--tau      ~ delta(0.08)\n",
      "supernova_params--m               ~ U(-21.0, -18.0)\n",
      "\n",
      "****************************\n",
      "* Running sampler 1/1: emcee\n",
      "* Running in serial mode.\n",
      "* Saving output -> output/pantheon.txt\n",
      "* Note: You set resume=T so I will resume from file output/pantheon.txt\n",
      "****************************************************\n",
      "OUTPUT XXX <cosmosis.output.text_output.TextColumnOutput object at 0x167f3de10>\n",
      "OUTPUT XXX <cosmosis.output.text_output.TextColumnOutput object at 0x167f3de10>\n",
      "OUTPUT XXX <cosmosis.output.text_output.TextColumnOutput object at 0x167f3de10>\n",
      "OUTPUT XXX <cosmosis.output.text_output.TextColumnOutput object at 0x167f3de10>\n",
      "OUTPUT XXX <cosmosis.output.text_output.TextColumnOutput object at 0x167f3de10>\n",
      "OUTPUT XXX <cosmosis.output.text_output.TextColumnOutput object at 0x167f3de10>\n",
      "Generating starting positions in small ball around starting point\n",
      "You told me to resume the chain - it has already completed (with 9600 samples), so sampling will end.\n",
      "Increase the 'samples' parameter to keep going.\n"
     ]
    },
    {
     "data": {
      "text/plain": [
       "0"
      ]
     },
     "execution_count": 3,
     "metadata": {},
     "output_type": "execute_result"
    }
   ],
   "source": [
    "cosmosis.run_cosmosis(\"examples/pantheon.ini\")"
   ]
  },
  {
   "cell_type": "markdown",
   "id": "ba6f4aa8",
   "metadata": {},
   "source": [
    "Reading the printed output\n",
    "------------------------------\n",
    "\n",
    "The printed shows us several things:\n",
    "\n",
    "- Information from the setup phase of the modules (see below).\n",
    "\n",
    "- Priors on our parameters, uniform (U) and fixed (delta).\n",
    "\n",
    "- Details about the sampler and where its output will go.\n",
    "\n",
    "- The progress of the sampling.\n",
    "\n",
    "---\n",
    "\n",
    "\n",
    "Getting output directly\n",
    "--------------------------\n",
    "\n",
    "By default CosmoSIS saves output to a file, but you can get the output directly in python by setting the output parameter. The simplest choice for it is `astropy`, which will give you an astropy table of the results.\n",
    "\n",
    "Note that in this form the chain can't resume from an existing run, so for larger or slower runs it's wiser to save to file."
   ]
  },
  {
   "cell_type": "code",
   "execution_count": 4,
   "id": "7e245ee9",
   "metadata": {},
   "outputs": [
    {
     "name": "stderr",
     "output_type": "stream",
     "text": [
      "Deprecated: The [pipeline] quiet option is deprecated.  Set [runtime] verbosity instead.\n",
      "Setup all pipeline modules\n",
      "\n"
     ]
    },
    {
     "name": "stdout",
     "output_type": "stream",
     "text": [
      "Setting up pipeline from parameter file examples/pantheon.ini\n",
      "-------------------------------------------------------------\n",
      "Loading Pantheon data from /Users/jzuntz/src/cosmosis/cosmosis-standard-library/likelihood/pantheon/lcparam_DS17f.txt\n",
      "Found 40 Pantheon supernovae (or bins if you used the binned data file)\n",
      "Loading Pantheon covariance from /Users/jzuntz/src/cosmosis/cosmosis-standard-library/likelihood/pantheon/sys_DS17f.txt\n",
      "Likelihood \"riess21\" will be Gaussian 0.732 +/- 0.013 \n",
      "\n",
      "Parameter Priors\n",
      "----------------\n",
      "cosmological_parameters--omega_m  ~ U(0.15, 0.4)\n",
      "cosmological_parameters--h0       ~ U(0.6, 0.8)\n",
      "cosmological_parameters--w        ~ delta(-1.0)\n",
      "cosmological_parameters--omega_b  ~ delta(0.04)\n",
      "cosmological_parameters--omega_k  ~ U(-0.3, 0.3)\n",
      "cosmological_parameters--a_s      ~ delta(2e-09)\n",
      "cosmological_parameters--n_s      ~ delta(1.0)\n",
      "cosmological_parameters--tau      ~ delta(0.08)\n",
      "supernova_params--m               ~ U(-21.0, -18.0)\n",
      "\n",
      "****************************\n",
      "* Running sampler 1/1: emcee\n",
      "* Running in serial mode.\n",
      "****************************************************\n",
      "OUTPUT XXX <cosmosis.output.astropy_output.AstropyOutput object at 0x16681d190>\n",
      "OUTPUT XXX <cosmosis.output.astropy_output.AstropyOutput object at 0x16681d190>\n",
      "OUTPUT XXX <cosmosis.output.astropy_output.AstropyOutput object at 0x16681d190>\n",
      "OUTPUT XXX <cosmosis.output.astropy_output.AstropyOutput object at 0x16681d190>\n",
      "OUTPUT XXX <cosmosis.output.astropy_output.AstropyOutput object at 0x16681d190>\n",
      "OUTPUT XXX <cosmosis.output.astropy_output.AstropyOutput object at 0x16681d190>\n",
      "Generating starting positions in small ball around starting point\n",
      "Begun sampling\n",
      "Using likelihooods from first run:\n",
      " - pantheon\n",
      " - riess21\n"
     ]
    },
    {
     "name": "stderr",
     "output_type": "stream",
     "text": [
      "Done 10 iterations of emcee. Acceptance fraction 0.697\n",
      "Done 20 iterations of emcee. Acceptance fraction 0.678\n",
      "Done 30 iterations of emcee. Acceptance fraction 0.655\n",
      "Done 40 iterations of emcee. Acceptance fraction 0.640\n",
      "Done 50 iterations of emcee. Acceptance fraction 0.633\n",
      "Done 60 iterations of emcee. Acceptance fraction 0.622\n",
      "Done 70 iterations of emcee. Acceptance fraction 0.618\n",
      "Done 80 iterations of emcee. Acceptance fraction 0.616\n",
      "Done 90 iterations of emcee. Acceptance fraction 0.617\n",
      "Done 100 iterations of emcee. Acceptance fraction 0.615\n",
      "Done 110 iterations of emcee. Acceptance fraction 0.611\n",
      "Done 120 iterations of emcee. Acceptance fraction 0.611\n",
      "Done 130 iterations of emcee. Acceptance fraction 0.609\n",
      "Done 140 iterations of emcee. Acceptance fraction 0.605\n",
      "Done 150 iterations of emcee. Acceptance fraction 0.603\n",
      "Done 160 iterations of emcee. Acceptance fraction 0.598\n",
      "Done 170 iterations of emcee. Acceptance fraction 0.597\n",
      "Done 180 iterations of emcee. Acceptance fraction 0.595\n",
      "Done 190 iterations of emcee. Acceptance fraction 0.595\n",
      "Done 200 iterations of emcee. Acceptance fraction 0.593\n",
      "Done 210 iterations of emcee. Acceptance fraction 0.594\n",
      "Done 220 iterations of emcee. Acceptance fraction 0.591\n",
      "Done 230 iterations of emcee. Acceptance fraction 0.590\n",
      "Done 240 iterations of emcee. Acceptance fraction 0.589\n",
      "Done 250 iterations of emcee. Acceptance fraction 0.589\n",
      "Done 260 iterations of emcee. Acceptance fraction 0.588\n",
      "Done 270 iterations of emcee. Acceptance fraction 0.588\n",
      "Done 280 iterations of emcee. Acceptance fraction 0.586\n",
      "Done 290 iterations of emcee. Acceptance fraction 0.586\n",
      "Done 300 iterations of emcee. Acceptance fraction 0.586\n"
     ]
    }
   ],
   "source": [
    "status, output = cosmosis.run_cosmosis(\"examples/pantheon.ini\", output=\"astropy\")"
   ]
  },
  {
   "cell_type": "markdown",
   "id": "421dd75d",
   "metadata": {},
   "source": [
    "Our table contains the cosmological parameters that were varied during the chain. The one in capital letters is a derived parameter calculated from the others.\n",
    "\n",
    "Now we can plot some results directly from this table:"
   ]
  },
  {
   "cell_type": "code",
   "execution_count": 5,
   "id": "3757a46c",
   "metadata": {},
   "outputs": [
    {
     "data": {
      "image/png": "[encoded data removed]",
      "text/plain": [
       "<Figure size 640x480 with 1 Axes>"
      ]
     },
     "metadata": {},
     "output_type": "display_data"
    },
    {
     "data": {
      "image/png": "[encoded data removed]",
      "text/plain": [
       "<Figure size 640x480 with 1 Axes>"
      ]
     },
     "metadata": {},
     "output_type": "display_data"
    }
   ],
   "source": [
    "plt.plot(output[\"cosmological_parameters--omega_m\"], ',')\n",
    "\n",
    "# The plot will show the chain is not burnt in until about 3000 samples\n",
    "burn = 3000\n",
    "plt.axvline(burn, color='r')\n",
    "chain = output[burn:]\n",
    "\n",
    "# A histogram shows us posterior constraints\n",
    "plt.figure()\n",
    "plt.hist(chain['cosmological_parameters--omega_m'], bins=25);"
   ]
  },
  {
   "cell_type": "markdown",
   "id": "51adf64d",
   "metadata": {},
   "source": [
    "---\n",
    "\n",
    "Customizing runs\n",
    "==============\n",
    "\n",
    "We can modify the choices made in the analysis by changing the parameters or values\n",
    "\n",
    "The parameters configure the *pipeline*, *modules*, and the *sampler*.  Here they read directly from `examples/pantheon.ini`\n",
    "\n",
    "The values defines the numerical parameters that might be varied in the sampling process. The name of the values file is set in the parameter file, in the `values` option in the `pipeline` section.\n",
    "\n",
    "Instead of having CosmoSIS read these from the file for us, we can also read them ourselves and modify them"
   ]
  },
  {
   "cell_type": "code",
   "execution_count": 6,
   "id": "45c7ff7b",
   "metadata": {},
   "outputs": [
    {
     "name": "stdout",
     "output_type": "stream",
     "text": [
      "Sections in the file:\n",
      "     runtime\n",
      "     emcee\n",
      "     polychord\n",
      "     multinest\n",
      "     output\n",
      "     pipeline\n",
      "     maxlike\n",
      "     metropolis\n",
      "     test\n",
      "     astropy\n",
      "     camb\n",
      "     pantheon\n",
      "     riess21\n",
      "     consistency\n",
      "\n",
      "\n",
      "Options in the [camb] section, for example:\n",
      "     file = boltzmann/camb/camb_interface.py\n",
      "     mode = background\n",
      "     feedback = 0\n",
      "     nz_background = 200\n",
      "     zmin_background = 0.0\n",
      "     zmax_background = 2.0\n"
     ]
    }
   ],
   "source": [
    "ini = cosmosis.Inifile(\"examples/pantheon.ini\")\n",
    "\n",
    "# Print a summary of the contents:\n",
    "print(\"Sections in the file:\")\n",
    "for section in ini.sections():\n",
    "    print(\"    \", section)\n",
    "print(\"\\n\")\n",
    "print(\"Options in the [camb] section, for example:\")\n",
    "for key, value in ini.items('camb'):\n",
    "    print(\"    \", key, \"=\", value)"
   ]
  },
  {
   "cell_type": "markdown",
   "id": "fe0a68c9",
   "metadata": {},
   "source": [
    "Let's change to use a different sampler, called nautilus. You can override any of the values in the file easily enough, or add new ones:"
   ]
  },
  {
   "cell_type": "code",
   "execution_count": 11,
   "id": "43c2f66f",
   "metadata": {},
   "outputs": [],
   "source": [
    "ini['runtime', 'sampler'] = 'nautilus'\n",
    "ini['runtime', 'resume'] = 'False'\n",
    "ini['runtime', 'verbosity'] = 'quiet'"
   ]
  },
  {
   "cell_type": "code",
   "execution_count": 12,
   "id": "cdeb48d8",
   "metadata": {
    "scrolled": true
   },
   "outputs": [
    {
     "name": "stderr",
     "output_type": "stream",
     "text": [
      "Deprecated: The [pipeline] quiet option is deprecated.  Set [runtime] verbosity instead.\n",
      "Setup all pipeline modules\n",
      "\n"
     ]
    },
    {
     "name": "stdout",
     "output_type": "stream",
     "text": [
      "Setting up pipeline from pre-constructed configuration\n",
      "------------------------------------------------------\n",
      "Setting up pipeline from pre-constructed configuration\n",
      "Loading Pantheon data from /Users/jzuntz/src/cosmosis/cosmosis-standard-library/likelihood/pantheon/lcparam_DS17f.txt\n",
      "Found 40 Pantheon supernovae (or bins if you used the binned data file)\n",
      "Loading Pantheon covariance from /Users/jzuntz/src/cosmosis/cosmosis-standard-library/likelihood/pantheon/sys_DS17f.txt\n",
      "Likelihood \"riess21\" will be Gaussian 0.732 +/- 0.013 \n",
      "\n",
      "Parameter Priors\n",
      "----------------\n",
      "cosmological_parameters--omega_m  ~ U(0.15, 0.4)\n",
      "cosmological_parameters--h0       ~ U(0.6, 0.8)\n",
      "cosmological_parameters--w        ~ delta(-1.0)\n",
      "cosmological_parameters--omega_b  ~ delta(0.04)\n",
      "cosmological_parameters--omega_k  ~ U(-0.3, 0.3)\n",
      "cosmological_parameters--a_s      ~ delta(2e-09)\n",
      "cosmological_parameters--n_s      ~ delta(1.0)\n",
      "cosmological_parameters--tau      ~ delta(0.08)\n",
      "supernova_params--m               ~ U(-21.0, -18.0)\n",
      "\n",
      "*******************************\n",
      "* Running sampler 1/1: nautilus\n",
      "* Running in serial mode.\n",
      "****************************************************\n",
      "Using likelihooods from first run:\n",
      " - pantheon\n",
      " - riess21\n"
     ]
    }
   ],
   "source": [
    "status, chain2 = cosmosis.run_cosmosis(ini, output='astropy')"
   ]
  },
  {
   "cell_type": "markdown",
   "id": "60ce9667",
   "metadata": {},
   "source": [
    "We can now do some much nicer looking plots and results, but note the weights for this."
   ]
  },
  {
   "cell_type": "code",
   "execution_count": 13,
   "id": "fd4e6faa",
   "metadata": {},
   "outputs": [
    {
     "name": "stdout",
     "output_type": "stream",
     "text": [
      "<Table length=32800>\n",
      "              name                dtype \n",
      "-------------------------------- -------\n",
      "cosmological_parameters--omega_m float64\n",
      "     cosmological_parameters--h0 float64\n",
      "cosmological_parameters--omega_k float64\n",
      "             supernova_params--m float64\n",
      "  COSMOLOGICAL_PARAMETERS--OMMH2 float64\n",
      "                      log_weight float64\n",
      "                           prior float64\n",
      "                            post float64\n"
     ]
    }
   ],
   "source": [
    "chain2.info()"
   ]
  },
  {
   "cell_type": "code",
   "execution_count": 14,
   "id": "e6a1afd4",
   "metadata": {},
   "outputs": [
    {
     "data": {
      "image/png": "[encoded data removed]",
      "text/plain": [
       "<Figure size 640x480 with 1 Axes>"
      ]
     },
     "metadata": {},
     "output_type": "display_data"
    }
   ],
   "source": [
    "plt.hist(chain2['cosmological_parameters--omega_m'], weights=np.exp(chain2['log_weight']), bins=20);"
   ]
  },
  {
   "cell_type": "markdown",
   "id": "15aba672",
   "metadata": {},
   "source": [
    "You can also customize pipelines directly"
   ]
  },
  {
   "cell_type": "code",
   "execution_count": 12,
   "id": "4d0e1e9a",
   "metadata": {},
   "outputs": [
    {
     "name": "stdout",
     "output_type": "stream",
     "text": [
      "Reading included ini file: `examples/des-y3-scale-cuts.ini'\n"
     ]
    },
    {
     "ename": "OSError",
     "evalue": "dlopen(libgsl.so, 0x000A): tried: 'libgsl.so' (no such file), '/System/Volumes/Preboot/Cryptexes/OSlibgsl.so' (no such file), '/Users/jzuntz/src/cosmosis/env-dev/lib/python3.11/lib-dynload/../../libgsl.so' (no such file), '/Users/jzuntz/src/cosmosis/env-dev/bin/../lib/libgsl.so' (no such file), '/usr/lib/libgsl.so' (no such file, not in dyld cache), 'libgsl.so' (no such file), '/usr/local/lib/libgsl.so' (no such file), '/usr/lib/libgsl.so' (no such file, not in dyld cache) ** If you are using conda you might need to source cosmosis-configure, or otherwise you may need to set up GSL differently. **",
     "output_type": "error",
     "traceback": [
      "\u001b[0;31m---------------------------------------------------------------------------\u001b[0m",
      "\u001b[0;31mOSError\u001b[0m                                   Traceback (most recent call last)",
      "File \u001b[0;32m~/src/cosmosis/cosmosis-standard-library/shear/point_mass/../../structure/projection/projection_tools/gsl_wrappers.py:38\u001b[0m, in \u001b[0;36mload_gsl\u001b[0;34m(libfile)\u001b[0m\n\u001b[1;32m     36\u001b[0m \u001b[38;5;28;01mtry\u001b[39;00m:\n\u001b[1;32m     37\u001b[0m     \u001b[38;5;66;03m# Try loading the CBLAS file first. Sometimes this is needed.\u001b[39;00m\n\u001b[0;32m---> 38\u001b[0m     gsl \u001b[38;5;241m=\u001b[39m \u001b[43mct\u001b[49m\u001b[38;5;241;43m.\u001b[39;49m\u001b[43mCDLL\u001b[49m\u001b[43m(\u001b[49m\u001b[43mlibfile\u001b[49m\u001b[43m,\u001b[49m\u001b[43m \u001b[49m\u001b[43mmode\u001b[49m\u001b[38;5;241;43m=\u001b[39;49m\u001b[43mct\u001b[49m\u001b[38;5;241;43m.\u001b[39;49m\u001b[43mRTLD_GLOBAL\u001b[49m\u001b[43m)\u001b[49m\n\u001b[1;32m     39\u001b[0m \u001b[38;5;28;01mexcept\u001b[39;00m \u001b[38;5;167;01mOSError\u001b[39;00m \u001b[38;5;28;01mas\u001b[39;00m err:\n",
      "File \u001b[0;32m~/src/cosmosis/env-dev/lib/python3.11/ctypes/__init__.py:376\u001b[0m, in \u001b[0;36mCDLL.__init__\u001b[0;34m(self, name, mode, handle, use_errno, use_last_error, winmode)\u001b[0m\n\u001b[1;32m    375\u001b[0m \u001b[38;5;28;01mif\u001b[39;00m handle \u001b[38;5;129;01mis\u001b[39;00m \u001b[38;5;28;01mNone\u001b[39;00m:\n\u001b[0;32m--> 376\u001b[0m     \u001b[38;5;28mself\u001b[39m\u001b[38;5;241m.\u001b[39m_handle \u001b[38;5;241m=\u001b[39m \u001b[43m_dlopen\u001b[49m\u001b[43m(\u001b[49m\u001b[38;5;28;43mself\u001b[39;49m\u001b[38;5;241;43m.\u001b[39;49m\u001b[43m_name\u001b[49m\u001b[43m,\u001b[49m\u001b[43m \u001b[49m\u001b[43mmode\u001b[49m\u001b[43m)\u001b[49m\n\u001b[1;32m    377\u001b[0m \u001b[38;5;28;01melse\u001b[39;00m:\n",
      "\u001b[0;31mOSError\u001b[0m: dlopen(libgsl.so, 0x000A): tried: 'libgsl.so' (no such file), '/System/Volumes/Preboot/Cryptexes/OSlibgsl.so' (no such file), '/Users/jzuntz/src/cosmosis/env-dev/lib/python3.11/lib-dynload/../../libgsl.so' (no such file), '/Users/jzuntz/src/cosmosis/env-dev/bin/../lib/libgsl.so' (no such file), '/usr/lib/libgsl.so' (no such file, not in dyld cache), 'libgsl.so' (no such file), '/usr/local/lib/libgsl.so' (no such file), '/usr/lib/libgsl.so' (no such file, not in dyld cache)",
      "\nThe above exception was the direct cause of the following exception:\n",
      "\u001b[0;31mOSError\u001b[0m                                   Traceback (most recent call last)",
      "Cell \u001b[0;32mIn[12], line 1\u001b[0m\n\u001b[0;32m----> 1\u001b[0m pipe \u001b[38;5;241m=\u001b[39m \u001b[43mcosmosis\u001b[49m\u001b[38;5;241;43m.\u001b[39;49m\u001b[43mLikelihoodPipeline\u001b[49m\u001b[43m(\u001b[49m\u001b[38;5;124;43m\"\u001b[39;49m\u001b[38;5;124;43mexamples/des-y3.ini\u001b[39;49m\u001b[38;5;124;43m\"\u001b[39;49m\u001b[43m)\u001b[49m\n",
      "File \u001b[0;32m~/src/cosmosis/cosmosis/cosmosis/runtime/pipeline.py:729\u001b[0m, in \u001b[0;36mLikelihoodPipeline.__init__\u001b[0;34m(self, arg, id, override, modules, load, values, priors, only)\u001b[0m\n\u001b[1;32m    719\u001b[0m \u001b[38;5;28;01mdef\u001b[39;00m \u001b[38;5;21m__init__\u001b[39m(\u001b[38;5;28mself\u001b[39m, arg\u001b[38;5;241m=\u001b[39m\u001b[38;5;28;01mNone\u001b[39;00m, \u001b[38;5;28mid\u001b[39m\u001b[38;5;241m=\u001b[39m\u001b[38;5;124m\"\u001b[39m\u001b[38;5;124m\"\u001b[39m, override\u001b[38;5;241m=\u001b[39m\u001b[38;5;28;01mNone\u001b[39;00m, modules\u001b[38;5;241m=\u001b[39m\u001b[38;5;28;01mNone\u001b[39;00m, load\u001b[38;5;241m=\u001b[39m\u001b[38;5;28;01mTrue\u001b[39;00m, values\u001b[38;5;241m=\u001b[39m\u001b[38;5;28;01mNone\u001b[39;00m, priors\u001b[38;5;241m=\u001b[39m\u001b[38;5;28;01mNone\u001b[39;00m, only\u001b[38;5;241m=\u001b[39m\u001b[38;5;28;01mNone\u001b[39;00m):\n\u001b[1;32m    720\u001b[0m \u001b[38;5;250m    \u001b[39m\u001b[38;5;124mu\u001b[39m\u001b[38;5;124;03m\"\"\"Construct a :class:`LikelihoodPipeline`.\u001b[39;00m\n\u001b[1;32m    721\u001b[0m \n\u001b[1;32m    722\u001b[0m \u001b[38;5;124;03m    The arguments `arg` and `load` are used in the base-class\u001b[39;00m\n\u001b[0;32m   (...)\u001b[0m\n\u001b[1;32m    727\u001b[0m \u001b[38;5;124;03m    \u001b[39;00m\n\u001b[1;32m    728\u001b[0m \u001b[38;5;124;03m    \"\"\"\u001b[39;00m\n\u001b[0;32m--> 729\u001b[0m     \u001b[38;5;28;43msuper\u001b[39;49m\u001b[43m(\u001b[49m\u001b[43m)\u001b[49m\u001b[38;5;241;43m.\u001b[39;49m\u001b[38;5;21;43m__init__\u001b[39;49m\u001b[43m(\u001b[49m\u001b[43marg\u001b[49m\u001b[38;5;241;43m=\u001b[39;49m\u001b[43marg\u001b[49m\u001b[43m,\u001b[49m\u001b[43m \u001b[49m\u001b[43mload\u001b[49m\u001b[38;5;241;43m=\u001b[39;49m\u001b[43mload\u001b[49m\u001b[43m,\u001b[49m\u001b[43m \u001b[49m\u001b[43mmodules\u001b[49m\u001b[38;5;241;43m=\u001b[39;49m\u001b[43mmodules\u001b[49m\u001b[43m)\u001b[49m\n\u001b[1;32m    731\u001b[0m     \u001b[38;5;28;01mif\u001b[39;00m \u001b[38;5;28mid\u001b[39m:\n\u001b[1;32m    732\u001b[0m         \u001b[38;5;28mself\u001b[39m\u001b[38;5;241m.\u001b[39mid_code \u001b[38;5;241m=\u001b[39m \u001b[38;5;124m\"\u001b[39m\u001b[38;5;124m[\u001b[39m\u001b[38;5;132;01m%s\u001b[39;00m\u001b[38;5;124m] \u001b[39m\u001b[38;5;124m\"\u001b[39m \u001b[38;5;241m%\u001b[39m \u001b[38;5;28mstr\u001b[39m(\u001b[38;5;28mid\u001b[39m)\n",
      "File \u001b[0;32m~/src/cosmosis/cosmosis/cosmosis/runtime/pipeline.py:385\u001b[0m, in \u001b[0;36mPipeline.__init__\u001b[0;34m(self, arg, load, modules)\u001b[0m\n\u001b[1;32m    382\u001b[0m \u001b[38;5;28;01melif\u001b[39;00m load \u001b[38;5;129;01mand\u001b[39;00m PIPELINE_INI_SECTION \u001b[38;5;129;01min\u001b[39;00m \u001b[38;5;28mself\u001b[39m\u001b[38;5;241m.\u001b[39moptions\u001b[38;5;241m.\u001b[39msections():\n\u001b[1;32m    383\u001b[0m     module_list \u001b[38;5;241m=\u001b[39m \u001b[38;5;28mself\u001b[39m\u001b[38;5;241m.\u001b[39moptions\u001b[38;5;241m.\u001b[39mget(PIPELINE_INI_SECTION,\n\u001b[1;32m    384\u001b[0m                                    \u001b[38;5;124m\"\u001b[39m\u001b[38;5;124mmodules\u001b[39m\u001b[38;5;124m\"\u001b[39m, fallback\u001b[38;5;241m=\u001b[39m\u001b[38;5;124m\"\u001b[39m\u001b[38;5;124m\"\u001b[39m)\u001b[38;5;241m.\u001b[39msplit()\n\u001b[0;32m--> 385\u001b[0m     \u001b[38;5;28mself\u001b[39m\u001b[38;5;241m.\u001b[39mmodules \u001b[38;5;241m=\u001b[39m \u001b[43m[\u001b[49m\n\u001b[1;32m    386\u001b[0m \u001b[43m        \u001b[49m\u001b[43mmodule\u001b[49m\u001b[38;5;241;43m.\u001b[39;49m\u001b[43mModule\u001b[49m\u001b[38;5;241;43m.\u001b[39;49m\u001b[43mfrom_options\u001b[49m\u001b[43m(\u001b[49m\u001b[43mmodule_name\u001b[49m\u001b[43m,\u001b[49m\u001b[38;5;28;43mself\u001b[39;49m\u001b[38;5;241;43m.\u001b[39;49m\u001b[43moptions\u001b[49m\u001b[43m,\u001b[49m\u001b[38;5;28;43mself\u001b[39;49m\u001b[38;5;241;43m.\u001b[39;49m\u001b[43mroot_directory\u001b[49m\u001b[43m)\u001b[49m\n\u001b[1;32m    387\u001b[0m \u001b[43m        \u001b[49m\u001b[38;5;28;43;01mfor\u001b[39;49;00m\u001b[43m \u001b[49m\u001b[43mmodule_name\u001b[49m\u001b[43m \u001b[49m\u001b[38;5;129;43;01min\u001b[39;49;00m\u001b[43m \u001b[49m\u001b[43mmodule_list\u001b[49m\n\u001b[1;32m    388\u001b[0m \u001b[43m    \u001b[49m\u001b[43m]\u001b[49m\n\u001b[1;32m    389\u001b[0m \u001b[38;5;28;01melse\u001b[39;00m:\n\u001b[1;32m    390\u001b[0m     \u001b[38;5;28mself\u001b[39m\u001b[38;5;241m.\u001b[39mmodules \u001b[38;5;241m=\u001b[39m []\n",
      "File \u001b[0;32m~/src/cosmosis/cosmosis/cosmosis/runtime/pipeline.py:386\u001b[0m, in \u001b[0;36m<listcomp>\u001b[0;34m(.0)\u001b[0m\n\u001b[1;32m    382\u001b[0m \u001b[38;5;28;01melif\u001b[39;00m load \u001b[38;5;129;01mand\u001b[39;00m PIPELINE_INI_SECTION \u001b[38;5;129;01min\u001b[39;00m \u001b[38;5;28mself\u001b[39m\u001b[38;5;241m.\u001b[39moptions\u001b[38;5;241m.\u001b[39msections():\n\u001b[1;32m    383\u001b[0m     module_list \u001b[38;5;241m=\u001b[39m \u001b[38;5;28mself\u001b[39m\u001b[38;5;241m.\u001b[39moptions\u001b[38;5;241m.\u001b[39mget(PIPELINE_INI_SECTION,\n\u001b[1;32m    384\u001b[0m                                    \u001b[38;5;124m\"\u001b[39m\u001b[38;5;124mmodules\u001b[39m\u001b[38;5;124m\"\u001b[39m, fallback\u001b[38;5;241m=\u001b[39m\u001b[38;5;124m\"\u001b[39m\u001b[38;5;124m\"\u001b[39m)\u001b[38;5;241m.\u001b[39msplit()\n\u001b[1;32m    385\u001b[0m     \u001b[38;5;28mself\u001b[39m\u001b[38;5;241m.\u001b[39mmodules \u001b[38;5;241m=\u001b[39m [\n\u001b[0;32m--> 386\u001b[0m         \u001b[43mmodule\u001b[49m\u001b[38;5;241;43m.\u001b[39;49m\u001b[43mModule\u001b[49m\u001b[38;5;241;43m.\u001b[39;49m\u001b[43mfrom_options\u001b[49m\u001b[43m(\u001b[49m\u001b[43mmodule_name\u001b[49m\u001b[43m,\u001b[49m\u001b[38;5;28;43mself\u001b[39;49m\u001b[38;5;241;43m.\u001b[39;49m\u001b[43moptions\u001b[49m\u001b[43m,\u001b[49m\u001b[38;5;28;43mself\u001b[39;49m\u001b[38;5;241;43m.\u001b[39;49m\u001b[43mroot_directory\u001b[49m\u001b[43m)\u001b[49m\n\u001b[1;32m    387\u001b[0m         \u001b[38;5;28;01mfor\u001b[39;00m module_name \u001b[38;5;129;01min\u001b[39;00m module_list\n\u001b[1;32m    388\u001b[0m     ]\n\u001b[1;32m    389\u001b[0m \u001b[38;5;28;01melse\u001b[39;00m:\n\u001b[1;32m    390\u001b[0m     \u001b[38;5;28mself\u001b[39m\u001b[38;5;241m.\u001b[39mmodules \u001b[38;5;241m=\u001b[39m []\n",
      "File \u001b[0;32m~/src/cosmosis/cosmosis/cosmosis/runtime/module.py:376\u001b[0m, in \u001b[0;36mModule.from_options\u001b[0;34m(cls, module_name, options, root_directory)\u001b[0m\n\u001b[1;32m    373\u001b[0m exec_function \u001b[38;5;241m=\u001b[39m options\u001b[38;5;241m.\u001b[39mget(module_name, \u001b[38;5;124m\"\u001b[39m\u001b[38;5;124mfunction\u001b[39m\u001b[38;5;124m\"\u001b[39m, fallback\u001b[38;5;241m=\u001b[39m\u001b[38;5;124m\"\u001b[39m\u001b[38;5;124mexecute\u001b[39m\u001b[38;5;124m\"\u001b[39m)\n\u001b[1;32m    374\u001b[0m cleanup_function \u001b[38;5;241m=\u001b[39m options\u001b[38;5;241m.\u001b[39mget(module_name, \u001b[38;5;124m\"\u001b[39m\u001b[38;5;124mcleanup\u001b[39m\u001b[38;5;124m\"\u001b[39m, fallback\u001b[38;5;241m=\u001b[39m\u001b[38;5;124m\"\u001b[39m\u001b[38;5;124mcleanup\u001b[39m\u001b[38;5;124m\"\u001b[39m)\n\u001b[0;32m--> 376\u001b[0m m \u001b[38;5;241m=\u001b[39m \u001b[38;5;28;43mcls\u001b[39;49m\u001b[43m(\u001b[49m\u001b[43mmodule_name\u001b[49m\u001b[43m,\u001b[49m\u001b[43m \u001b[49m\u001b[43mfilename\u001b[49m\u001b[43m,\u001b[49m\n\u001b[1;32m    377\u001b[0m \u001b[43m        \u001b[49m\u001b[43msetup_function\u001b[49m\u001b[43m,\u001b[49m\u001b[43m \u001b[49m\u001b[43mexec_function\u001b[49m\u001b[43m,\u001b[49m\u001b[43m \u001b[49m\u001b[43mcleanup_function\u001b[49m\u001b[43m,\u001b[49m\n\u001b[1;32m    378\u001b[0m \u001b[43m        \u001b[49m\u001b[43mroot_directory\u001b[49m\u001b[43m)\u001b[49m\n\u001b[1;32m    380\u001b[0m \u001b[38;5;28;01mreturn\u001b[39;00m m\n",
      "File \u001b[0;32m~/src/cosmosis/cosmosis/cosmosis/runtime/module.py:104\u001b[0m, in \u001b[0;36mModule.__init__\u001b[0;34m(self, module_name, file_path, setup_function, execute_function, cleanup_function, rootpath)\u001b[0m\n\u001b[1;32m    101\u001b[0m     filename \u001b[38;5;241m=\u001b[39m os\u001b[38;5;241m.\u001b[39mpath\u001b[38;5;241m.\u001b[39mjoin(rootpath, filename)\n\u001b[1;32m    102\u001b[0m \u001b[38;5;28mself\u001b[39m\u001b[38;5;241m.\u001b[39mfilename \u001b[38;5;241m=\u001b[39m filename\n\u001b[0;32m--> 104\u001b[0m \u001b[38;5;28mself\u001b[39m\u001b[38;5;241m.\u001b[39mlibrary, language \u001b[38;5;241m=\u001b[39m \u001b[38;5;28;43mself\u001b[39;49m\u001b[38;5;241;43m.\u001b[39;49m\u001b[43mload_library\u001b[49m\u001b[43m(\u001b[49m\u001b[43mfilename\u001b[49m\u001b[43m)\u001b[49m\n\u001b[1;32m    105\u001b[0m \u001b[38;5;28mself\u001b[39m\u001b[38;5;241m.\u001b[39mis_python \u001b[38;5;241m=\u001b[39m (language \u001b[38;5;241m==\u001b[39m MODULE_LANG_PYTHON)\n\u001b[1;32m    106\u001b[0m \u001b[38;5;28mself\u001b[39m\u001b[38;5;241m.\u001b[39mis_julia \u001b[38;5;241m=\u001b[39m (language \u001b[38;5;241m==\u001b[39m MODULE_LANG_JULIA)\n",
      "File \u001b[0;32m~/src/cosmosis/cosmosis/cosmosis/runtime/module.py:307\u001b[0m, in \u001b[0;36mModule.load_library\u001b[0;34m(filepath)\u001b[0m\n\u001b[1;32m    305\u001b[0m sys\u001b[38;5;241m.\u001b[39mpath\u001b[38;5;241m.\u001b[39minsert(\u001b[38;5;241m0\u001b[39m, dirname)\n\u001b[1;32m    306\u001b[0m \u001b[38;5;28;01mtry\u001b[39;00m:\n\u001b[0;32m--> 307\u001b[0m     library \u001b[38;5;241m=\u001b[39m \u001b[38;5;28m__import__\u001b[39m(impname)\n\u001b[1;32m    308\u001b[0m \u001b[38;5;28;01mexcept\u001b[39;00m \u001b[38;5;167;01mImportError\u001b[39;00m \u001b[38;5;28;01mas\u001b[39;00m error:\n\u001b[1;32m    309\u001b[0m     \u001b[38;5;28;01mraise\u001b[39;00m SetupError(\u001b[38;5;124m\"\u001b[39m\u001b[38;5;124mYou specified a path \u001b[39m\u001b[38;5;132;01m%s\u001b[39;00m\u001b[38;5;124m for a module. \u001b[39m\u001b[38;5;124m\"\u001b[39m\n\u001b[1;32m    310\u001b[0m                      \u001b[38;5;124m\"\u001b[39m\u001b[38;5;124mI looked for a python module there but \u001b[39m\u001b[38;5;124m\"\u001b[39m\n\u001b[1;32m    311\u001b[0m                      \u001b[38;5;124m\"\u001b[39m\u001b[38;5;124mwas unable to load it.  Error was \u001b[39m\u001b[38;5;132;01m%s\u001b[39;00m\u001b[38;5;124m\"\u001b[39m \u001b[38;5;241m%\u001b[39m\n\u001b[1;32m    312\u001b[0m                      (filepath, error))\n",
      "File \u001b[0;32m~/src/cosmosis/cosmosis-standard-library/shear/point_mass/add_gammat_point_mass.py:8\u001b[0m\n\u001b[1;32m      6\u001b[0m path \u001b[38;5;241m=\u001b[39m os\u001b[38;5;241m.\u001b[39mpath\u001b[38;5;241m.\u001b[39mjoin(current_dir, \u001b[38;5;124m'\u001b[39m\u001b[38;5;124m../../structure/projection/projection_tools\u001b[39m\u001b[38;5;124m'\u001b[39m)\n\u001b[1;32m      7\u001b[0m sys\u001b[38;5;241m.\u001b[39mpath\u001b[38;5;241m.\u001b[39mappend(path)\n\u001b[0;32m----> 8\u001b[0m \u001b[38;5;28;01mfrom\u001b[39;00m \u001b[38;5;21;01mgsl_wrappers\u001b[39;00m \u001b[38;5;28;01mimport\u001b[39;00m GSLSpline\n\u001b[1;32m      9\u001b[0m \u001b[38;5;28;01mfrom\u001b[39;00m \u001b[38;5;21;01mcosmosis\u001b[39;00m\u001b[38;5;21;01m.\u001b[39;00m\u001b[38;5;21;01mdatablock\u001b[39;00m \u001b[38;5;28;01mimport\u001b[39;00m names\n\u001b[1;32m     10\u001b[0m \u001b[38;5;28;01mfrom\u001b[39;00m \u001b[38;5;21;01mcosmosis\u001b[39;00m\u001b[38;5;21;01m.\u001b[39;00m\u001b[38;5;21;01mdatablock\u001b[39;00m \u001b[38;5;28;01mimport\u001b[39;00m option_section\n",
      "File \u001b[0;32m~/src/cosmosis/cosmosis-standard-library/shear/point_mass/../../structure/projection/projection_tools/gsl_wrappers.py:45\u001b[0m\n\u001b[1;32m     42\u001b[0m     \u001b[38;5;28;01mreturn\u001b[39;00m gsl\n\u001b[1;32m     44\u001b[0m \u001b[38;5;66;03m#global gsl library\u001b[39;00m\n\u001b[0;32m---> 45\u001b[0m gsl \u001b[38;5;241m=\u001b[39m \u001b[43mload_gsl\u001b[49m\u001b[43m(\u001b[49m\u001b[43m)\u001b[49m\n\u001b[1;32m     46\u001b[0m c_dbl_array \u001b[38;5;241m=\u001b[39m np\u001b[38;5;241m.\u001b[39mctypeslib\u001b[38;5;241m.\u001b[39mndpointer(dtype\u001b[38;5;241m=\u001b[39mnp\u001b[38;5;241m.\u001b[39mfloat64, ndim\u001b[38;5;241m=\u001b[39m\u001b[38;5;241m1\u001b[39m, flags\u001b[38;5;241m=\u001b[39m\u001b[38;5;124m\"\u001b[39m\u001b[38;5;124mC_CONTIGUOUS\u001b[39m\u001b[38;5;124m\"\u001b[39m)\n\u001b[1;32m     48\u001b[0m \u001b[38;5;66;03m#1d splines\u001b[39;00m\n",
      "File \u001b[0;32m~/src/cosmosis/cosmosis-standard-library/shear/point_mass/../../structure/projection/projection_tools/gsl_wrappers.py:41\u001b[0m, in \u001b[0;36mload_gsl\u001b[0;34m(libfile)\u001b[0m\n\u001b[1;32m     39\u001b[0m \u001b[38;5;28;01mexcept\u001b[39;00m \u001b[38;5;167;01mOSError\u001b[39;00m \u001b[38;5;28;01mas\u001b[39;00m err:\n\u001b[1;32m     40\u001b[0m     msg \u001b[38;5;241m=\u001b[39m \u001b[38;5;124mf\u001b[39m\u001b[38;5;124m\"\u001b[39m\u001b[38;5;132;01m{\u001b[39;00merr\u001b[38;5;132;01m}\u001b[39;00m\u001b[38;5;124m ** If you are using conda you might need to source cosmosis-configure, or otherwise you may need to set up GSL differently. **\u001b[39m\u001b[38;5;124m\"\u001b[39m\n\u001b[0;32m---> 41\u001b[0m     \u001b[38;5;28;01mraise\u001b[39;00m \u001b[38;5;167;01mOSError\u001b[39;00m(msg) \u001b[38;5;28;01mfrom\u001b[39;00m \u001b[38;5;21;01merr\u001b[39;00m\n\u001b[1;32m     42\u001b[0m \u001b[38;5;28;01mreturn\u001b[39;00m gsl\n",
      "\u001b[0;31mOSError\u001b[0m: dlopen(libgsl.so, 0x000A): tried: 'libgsl.so' (no such file), '/System/Volumes/Preboot/Cryptexes/OSlibgsl.so' (no such file), '/Users/jzuntz/src/cosmosis/env-dev/lib/python3.11/lib-dynload/../../libgsl.so' (no such file), '/Users/jzuntz/src/cosmosis/env-dev/bin/../lib/libgsl.so' (no such file), '/usr/lib/libgsl.so' (no such file, not in dyld cache), 'libgsl.so' (no such file), '/usr/local/lib/libgsl.so' (no such file), '/usr/lib/libgsl.so' (no such file, not in dyld cache) ** If you are using conda you might need to source cosmosis-configure, or otherwise you may need to set up GSL differently. **"
     ]
    }
   ],
   "source": [
    "pipe = cosmosis.LikelihoodPipeline(\"examples/des-y3.ini\")"
   ]
  },
  {
   "cell_type": "code",
   "execution_count": 16,
   "id": "9ef5672e",
   "metadata": {},
   "outputs": [],
   "source": [
    "chain2.write('tmp.txt', format='ascii.commented_header', overwrite=True)"
   ]
  },
  {
   "cell_type": "code",
   "execution_count": 17,
   "id": "1faf6376",
   "metadata": {},
   "outputs": [
    {
     "data": {
      "text/plain": [
       "OrderedDict([('final',\n",
       "              {'efficiency': 0.31248168701958123,\n",
       "               'neff': 10249.399334242264,\n",
       "               'nsample': 32800,\n",
       "               'log_z': -30.184077189355634}),\n",
       "             ('sampler', 'nautilus'),\n",
       "             ('n_varied', 4),\n",
       "             ('module_0', 'consistency 1.0'),\n",
       "             ('module_1', 'astropy'),\n",
       "             ('module_1_comment', 'name from ini file'),\n",
       "             ('module_2', 'pantheon 2018'),\n",
       "             ('comments',\n",
       "              ['CITE Scolnic et al, ApJ, 859, 28',\n",
       "               'CITE Riess et al, ApJLett, 908, 1',\n",
       "               'START_OF_PARAMS_INI',\n",
       "               '[runtime]',\n",
       "               'sampler = nautilus',\n",
       "               'root = /Users/jzuntz/src/cosmosis/cosmosis-standard-library',\n",
       "               'resume = False',\n",
       "               'verbosity = quiet',\n",
       "               '',\n",
       "               '[emcee]',\n",
       "               'walkers = 32',\n",
       "               'samples = 300',\n",
       "               'nsteps = 10',\n",
       "               '',\n",
       "               '[polychord]',\n",
       "               'live_points = 50',\n",
       "               'feedback = 5',\n",
       "               'base_dir = output/pantheon_pc',\n",
       "               'polychord_outfile_root = pantheon_pc',\n",
       "               '',\n",
       "               '[multinest]',\n",
       "               'max_iterations = 50000',\n",
       "               'live_points = 100',\n",
       "               'multinest_outfile_root = output/mn',\n",
       "               '',\n",
       "               '[output]',\n",
       "               'filename = output/pantheon.txt',\n",
       "               'format = text',\n",
       "               '',\n",
       "               '[pipeline]',\n",
       "               'modules = consistency astropy pantheon riess21',\n",
       "               'values = examples/pantheon_values.ini',\n",
       "               'extra_output = cosmological_parameters/ommh2',\n",
       "               'quiet = T',\n",
       "               'debug = F',\n",
       "               'timing = F',\n",
       "               '',\n",
       "               '[maxlike]',\n",
       "               'output_ini = output/pantheon_maxlike.ini',\n",
       "               'output_covmat = new.cov',\n",
       "               'tolerance = 1e-6',\n",
       "               '',\n",
       "               '[metropolis]',\n",
       "               'cobaya = T',\n",
       "               'samples = 50000',\n",
       "               'tuning_frequency = 500',\n",
       "               'tuning_grace = 1000',\n",
       "               'tuning_end = 10000',\n",
       "               'nsteps = 1000',\n",
       "               '',\n",
       "               '[test]',\n",
       "               'save_dir = output/pantheon',\n",
       "               '',\n",
       "               '[astropy]',\n",
       "               'file = background/astropy_background/astropy_background.py',\n",
       "               'model = lambdacdm',\n",
       "               'nz = 200',\n",
       "               'zmax = 2.0',\n",
       "               '',\n",
       "               '[camb]',\n",
       "               'file = boltzmann/camb/camb_interface.py',\n",
       "               'mode = background',\n",
       "               'feedback = 0',\n",
       "               'nz_background = 200',\n",
       "               'zmin_background = 0.0',\n",
       "               'zmax_background = 2.0',\n",
       "               '',\n",
       "               '[pantheon]',\n",
       "               'file = likelihood/pantheon/pantheon.py',\n",
       "               'likelihood_only = T',\n",
       "               '',\n",
       "               '[riess21]',\n",
       "               'file = likelihood/riess21/riess21.py',\n",
       "               '',\n",
       "               '[consistency]',\n",
       "               'file = utility/consistency/consistency_interface.py',\n",
       "               '',\n",
       "               '[nautilus]',\n",
       "               'resume = False',\n",
       "               '',\n",
       "               'END_OF_PARAMS_INI',\n",
       "               'START_OF_VALUES_INI',\n",
       "               '[cosmological_parameters]',\n",
       "               'omega_m = 0.15    0.3    0.4',\n",
       "               'h0 = 0.6  0.7  0.8',\n",
       "               'w = -1.0',\n",
       "               'omega_b = 0.04',\n",
       "               'omega_k = -0.3  0.0  0.3',\n",
       "               'a_s = 2.0e-9',\n",
       "               'n_s = 1.0',\n",
       "               'tau = 0.08',\n",
       "               '',\n",
       "               '[supernova_params]',\n",
       "               'm = -21.0  -19.35  -18.0',\n",
       "               '',\n",
       "               'END_OF_VALUES_INI',\n",
       "               'START_OF_PRIORS_INI',\n",
       "               'END_OF_PRIORS_INI']),\n",
       "             ('module_3', 'Riess21 2021'),\n",
       "             ('timestamp', '2023-05-30T13:42:30.995580'),\n",
       "             ('platform', 'macOS-13.0-arm64-arm-64bit'),\n",
       "             ('platform_version',\n",
       "              'Darwin Kernel Version 22.1.0: Sun Oct  9 20:19:12 PDT 2022; root:xnu-8792.41.9~3/RELEASE_ARM64_T6020'),\n",
       "             ('uuid', '6d7c173eadf14055ac67bd68e3c56507'),\n",
       "             ('cosmosis_git_version', ''),\n",
       "             ('csl_git_version', ''),\n",
       "             ('cwd_git_version', '97553e392bf96a0b3655689f96074950242e53b5'),\n",
       "             ('n_live', '1500'),\n",
       "             ('n_update', '1500'),\n",
       "             ('enlarge_per_dim', '1.1'),\n",
       "             ('n_points_min', '54'),\n",
       "             ('split_threshold', '100.0'),\n",
       "             ('n_networks', '4'),\n",
       "             ('n_jobs', '1'),\n",
       "             ('n_batch', '100'),\n",
       "             ('seed', '-1'),\n",
       "             ('resume', 'False'),\n",
       "             ('f_live', '0.01'),\n",
       "             ('n_shell', '100'),\n",
       "             ('n_eff', '10000.0'),\n",
       "             ('discard_exploration', 'False'),\n",
       "             ('verbose', 'False')])"
      ]
     },
     "execution_count": 17,
     "metadata": {},
     "output_type": "execute_result"
    }
   ],
   "source": [
    "chain2.meta"
   ]
  },
  {
   "cell_type": "code",
   "execution_count": 19,
   "id": "4e125337",
   "metadata": {},
   "outputs": [
    {
     "name": "stdout",
     "output_type": "stream",
     "text": [
      "# cosmological_parameters--omega_m cosmological_parameters--h0 cosmological_parameters--omega_k supernova_params--m COSMOLOGICAL_PARAMETERS--OMMH2 log_weight prior post\r\n",
      "# CITE Scolnic et al, ApJ, 859, 28\r\n",
      "# CITE Riess et al, ApJLett, 908, 1\r\n",
      "# START_OF_PARAMS_INI\r\n",
      "# [runtime]\r\n",
      "# sampler = nautilus\r\n",
      "# root = /Users/jzuntz/src/cosmosis/cosmosis-standard-library\r\n",
      "# resume = False\r\n",
      "# verbosity = quiet\r\n",
      "# \r\n",
      "# [emcee]\r\n",
      "# walkers = 32\r\n",
      "# samples = 300\r\n",
      "# nsteps = 10\r\n",
      "# \r\n",
      "# [polychord]\r\n",
      "# live_points = 50\r\n",
      "# feedback = 5\r\n",
      "# base_dir = output/pantheon_pc\r\n",
      "# polychord_outfile_root = pantheon_pc\r\n",
      "# \r\n",
      "# [multinest]\r\n",
      "# max_iterations = 50000\r\n",
      "# live_points = 100\r\n",
      "# multinest_outfile_root = output/mn\r\n",
      "# \r\n",
      "# [output]\r\n",
      "# filename = output/pantheon.txt\r\n",
      "# format = text\r\n",
      "# \r\n",
      "# [pipeline]\r\n",
      "# modules = consistency astropy pantheon riess21\r\n",
      "# values = examples/pantheon_values.ini\r\n",
      "# extra_output = cosmological_parameters/ommh2\r\n",
      "# quiet = T\r\n",
      "# debug = F\r\n",
      "# timing = F\r\n",
      "# \r\n",
      "# [maxlike]\r\n",
      "# output_ini = output/pantheon_maxlike.ini\r\n",
      "# output_covmat = new.cov\r\n",
      "# tolerance = 1e-6\r\n",
      "# \r\n",
      "# [metropolis]\r\n",
      "# cobaya = T\r\n",
      "# samples = 50000\r\n",
      "# tuning_frequency = 500\r\n",
      "# tuning_grace = 1000\r\n",
      "# tuning_end = 10000\r\n",
      "# nsteps = 1000\r\n",
      "# \r\n",
      "# [test]\r\n",
      "# save_dir = output/pantheon\r\n",
      "# \r\n",
      "# [astropy]\r\n",
      "# file = background/astropy_background/astropy_background.py\r\n",
      "# model = lambdacdm\r\n",
      "# nz = 200\r\n",
      "# zmax = 2.0\r\n",
      "# \r\n",
      "# [camb]\r\n",
      "# file = boltzmann/camb/camb_interface.py\r\n",
      "# mode = background\r\n",
      "# feedback = 0\r\n",
      "# nz_background = 200\r\n",
      "# zmin_background = 0.0\r\n",
      "# zmax_background = 2.0\r\n",
      "# \r\n",
      "# [pantheon]\r\n",
      "# file = likelihood/pantheon/pantheon.py\r\n",
      "# likelihood_only = T\r\n",
      "# \r\n",
      "# [riess21]\r\n",
      "# file = likelihood/riess21/riess21.py\r\n",
      "# \r\n",
      "# [consistency]\r\n",
      "# file = utility/consistency/consistency_interface.py\r\n",
      "# \r\n",
      "# [nautilus]\r\n",
      "# resume = False\r\n",
      "# \r\n",
      "# END_OF_PARAMS_INI\r\n",
      "# START_OF_VALUES_INI\r\n",
      "# [cosmological_parameters]\r\n",
      "# omega_m = 0.15    0.3    0.4\r\n",
      "# h0 = 0.6  0.7  0.8\r\n",
      "# w = -1.0\r\n",
      "# omega_b = 0.04\r\n",
      "# omega_k = -0.3  0.0  0.3\r\n",
      "# a_s = 2.0e-9\r\n",
      "# n_s = 1.0\r\n",
      "# tau = 0.08\r\n",
      "# \r\n",
      "# [supernova_params]\r\n",
      "# m = -21.0  -19.35  -18.0\r\n",
      "# \r\n",
      "# END_OF_VALUES_INI\r\n",
      "# START_OF_PRIORS_INI\r\n",
      "# END_OF_PRIORS_INI\r\n",
      "0.24839893172177116 0.6700773174163173 -0.24282423084261315 -18.595380531969113 0.111532017390074 -24312.374608363836 2.407945608651871 -24332.14437237689\r\n"
     ]
    }
   ],
   "source": [
    "!head -100 tmp.txt"
   ]
  },
  {
   "cell_type": "code",
   "execution_count": 20,
   "id": "0917c7d9",
   "metadata": {},
   "outputs": [
    {
     "data": {
      "text/plain": [
       "OrderedDict([('final',\n",
       "              {'efficiency': 0.31248168701958123,\n",
       "               'neff': 10249.399334242264,\n",
       "               'nsample': 32800,\n",
       "               'log_z': -30.184077189355634}),\n",
       "             ('sampler', 'nautilus'),\n",
       "             ('n_varied', 4),\n",
       "             ('module_0', 'consistency 1.0'),\n",
       "             ('module_1', 'astropy'),\n",
       "             ('module_1_comment', 'name from ini file'),\n",
       "             ('module_2', 'pantheon 2018'),\n",
       "             ('comments',\n",
       "              ['CITE Scolnic et al, ApJ, 859, 28',\n",
       "               'CITE Riess et al, ApJLett, 908, 1',\n",
       "               'START_OF_PARAMS_INI',\n",
       "               '[runtime]',\n",
       "               'sampler = nautilus',\n",
       "               'root = /Users/jzuntz/src/cosmosis/cosmosis-standard-library',\n",
       "               'resume = False',\n",
       "               'verbosity = quiet',\n",
       "               '',\n",
       "               '[emcee]',\n",
       "               'walkers = 32',\n",
       "               'samples = 300',\n",
       "               'nsteps = 10',\n",
       "               '',\n",
       "               '[polychord]',\n",
       "               'live_points = 50',\n",
       "               'feedback = 5',\n",
       "               'base_dir = output/pantheon_pc',\n",
       "               'polychord_outfile_root = pantheon_pc',\n",
       "               '',\n",
       "               '[multinest]',\n",
       "               'max_iterations = 50000',\n",
       "               'live_points = 100',\n",
       "               'multinest_outfile_root = output/mn',\n",
       "               '',\n",
       "               '[output]',\n",
       "               'filename = output/pantheon.txt',\n",
       "               'format = text',\n",
       "               '',\n",
       "               '[pipeline]',\n",
       "               'modules = consistency astropy pantheon riess21',\n",
       "               'values = examples/pantheon_values.ini',\n",
       "               'extra_output = cosmological_parameters/ommh2',\n",
       "               'quiet = T',\n",
       "               'debug = F',\n",
       "               'timing = F',\n",
       "               '',\n",
       "               '[maxlike]',\n",
       "               'output_ini = output/pantheon_maxlike.ini',\n",
       "               'output_covmat = new.cov',\n",
       "               'tolerance = 1e-6',\n",
       "               '',\n",
       "               '[metropolis]',\n",
       "               'cobaya = T',\n",
       "               'samples = 50000',\n",
       "               'tuning_frequency = 500',\n",
       "               'tuning_grace = 1000',\n",
       "               'tuning_end = 10000',\n",
       "               'nsteps = 1000',\n",
       "               '',\n",
       "               '[test]',\n",
       "               'save_dir = output/pantheon',\n",
       "               '',\n",
       "               '[astropy]',\n",
       "               'file = background/astropy_background/astropy_background.py',\n",
       "               'model = lambdacdm',\n",
       "               'nz = 200',\n",
       "               'zmax = 2.0',\n",
       "               '',\n",
       "               '[camb]',\n",
       "               'file = boltzmann/camb/camb_interface.py',\n",
       "               'mode = background',\n",
       "               'feedback = 0',\n",
       "               'nz_background = 200',\n",
       "               'zmin_background = 0.0',\n",
       "               'zmax_background = 2.0',\n",
       "               '',\n",
       "               '[pantheon]',\n",
       "               'file = likelihood/pantheon/pantheon.py',\n",
       "               'likelihood_only = T',\n",
       "               '',\n",
       "               '[riess21]',\n",
       "               'file = likelihood/riess21/riess21.py',\n",
       "               '',\n",
       "               '[consistency]',\n",
       "               'file = utility/consistency/consistency_interface.py',\n",
       "               '',\n",
       "               '[nautilus]',\n",
       "               'resume = False',\n",
       "               '',\n",
       "               'END_OF_PARAMS_INI',\n",
       "               'START_OF_VALUES_INI',\n",
       "               '[cosmological_parameters]',\n",
       "               'omega_m = 0.15    0.3    0.4',\n",
       "               'h0 = 0.6  0.7  0.8',\n",
       "               'w = -1.0',\n",
       "               'omega_b = 0.04',\n",
       "               'omega_k = -0.3  0.0  0.3',\n",
       "               'a_s = 2.0e-9',\n",
       "               'n_s = 1.0',\n",
       "               'tau = 0.08',\n",
       "               '',\n",
       "               '[supernova_params]',\n",
       "               'm = -21.0  -19.35  -18.0',\n",
       "               '',\n",
       "               'END_OF_VALUES_INI',\n",
       "               'START_OF_PRIORS_INI',\n",
       "               'END_OF_PRIORS_INI']),\n",
       "             ('module_3', 'Riess21 2021'),\n",
       "             ('timestamp', '2023-05-30T13:42:30.995580'),\n",
       "             ('platform', 'macOS-13.0-arm64-arm-64bit'),\n",
       "             ('platform_version',\n",
       "              'Darwin Kernel Version 22.1.0: Sun Oct  9 20:19:12 PDT 2022; root:xnu-8792.41.9~3/RELEASE_ARM64_T6020'),\n",
       "             ('uuid', '6d7c173eadf14055ac67bd68e3c56507'),\n",
       "             ('cosmosis_git_version', ''),\n",
       "             ('csl_git_version', ''),\n",
       "             ('cwd_git_version', '97553e392bf96a0b3655689f96074950242e53b5'),\n",
       "             ('n_live', '1500'),\n",
       "             ('n_update', '1500'),\n",
       "             ('enlarge_per_dim', '1.1'),\n",
       "             ('n_points_min', '54'),\n",
       "             ('split_threshold', '100.0'),\n",
       "             ('n_networks', '4'),\n",
       "             ('n_jobs', '1'),\n",
       "             ('n_batch', '100'),\n",
       "             ('seed', '-1'),\n",
       "             ('resume', 'False'),\n",
       "             ('f_live', '0.01'),\n",
       "             ('n_shell', '100'),\n",
       "             ('n_eff', '10000.0'),\n",
       "             ('discard_exploration', 'False'),\n",
       "             ('verbose', 'False')])"
      ]
     },
     "execution_count": 20,
     "metadata": {},
     "output_type": "execute_result"
    }
   ],
   "source": [
    "chain2.meta"
   ]
  },
  {
   "cell_type": "code",
   "execution_count": null,
   "id": "0366aecc",
   "metadata": {},
   "outputs": [],
   "source": []
  }
 ],
 "metadata": {
  "kernelspec": {
   "display_name": "Python 3 (ipykernel)",
   "language": "python",
   "name": "python3"
  },
  "language_info": {
   "codemirror_mode": {
    "name": "ipython",
    "version": 3
   },
   "file_extension": ".py",
   "mimetype": "text/x-python",
   "name": "python",
   "nbconvert_exporter": "python",
   "pygments_lexer": "ipython3",
   "version": "3.11.3"
  }
 },
 "nbformat": 4,
 "nbformat_minor": 5
}
