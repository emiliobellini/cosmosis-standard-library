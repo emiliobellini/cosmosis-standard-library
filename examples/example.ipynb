{
 "cells": [
  {
   "cell_type": "code",
   "execution_count": 1,
   "id": "946e5768",
   "metadata": {},
   "outputs": [],
   "source": [
    "import matplotlib.pyplot as plt\n",
    "%matplotlib inline\n",
    "import cosmosis\n",
    "import os\n",
    "import numpy as np"
   ]
  },
  {
   "cell_type": "code",
   "execution_count": 2,
   "id": "db8c289b",
   "metadata": {},
   "outputs": [
    {
     "name": "stdout",
     "output_type": "stream",
     "text": [
      "Switching to directory above to run examples\n"
     ]
    }
   ],
   "source": [
    "dirname = os.getcwd()\n",
    "if os.getcwd().endswith(\"cosmosis-standard-library\" + os.path.sep + \"examples\"):\n",
    "    print(\"Switching to directory above to run examples\")\n",
    "    os.chdir(os.path.pardir)"
   ]
  },
  {
   "cell_type": "markdown",
   "id": "286643db",
   "metadata": {},
   "source": [
    "Basic usage\n",
    "==========\n",
    "\n",
    "The usual way to run CosmoSIS is by writing several parameter files.  Let's run an example analysis: an example of fitting Supernova data using the \"emcee\" sampling method.\n",
    "\n",
    "(If you get a message starting \"You told me to resume the chain ...\" then don't worry, it just means you've already run this example so the results already exist)."
   ]
  },
  {
   "cell_type": "code",
   "execution_count": 3,
   "id": "6d71cda9",
   "metadata": {},
   "outputs": [
    {
     "name": "stdout",
     "output_type": "stream",
     "text": [
      "Setting up pipeline from parameter file examples/pantheon.ini\n",
      "-------------------------------------------------------------\n"
     ]
    },
    {
     "name": "stderr",
     "output_type": "stream",
     "text": [
      "INFO:root:Generating starting positions in small ball around starting point\n"
     ]
    },
    {
     "name": "stdout",
     "output_type": "stream",
     "text": [
      "Loading Pantheon data from /Users/jzuntz/src/cosmosis/cosmosis-standard-library/likelihood/pantheon/lcparam_DS17f.txt\n",
      "Found 40 Pantheon supernovae (or bins if you used the binned data file)\n",
      "Loading Pantheon covariance from /Users/jzuntz/src/cosmosis/cosmosis-standard-library/likelihood/pantheon/sys_DS17f.txt\n",
      "Likelihood \"riess21\" will be Gaussian 0.732 +/- 0.013 \n",
      "\n",
      "Parameter Priors\n",
      "----------------\n",
      "cosmological_parameters--omega_m  ~ U(0.15, 0.4)\n",
      "cosmological_parameters--h0       ~ U(0.6, 0.8)\n",
      "cosmological_parameters--w        ~ delta(-1.0)\n",
      "cosmological_parameters--omega_b  ~ delta(0.04)\n",
      "cosmological_parameters--omega_k  ~ U(-0.3, 0.3)\n",
      "cosmological_parameters--a_s      ~ delta(2e-09)\n",
      "cosmological_parameters--n_s      ~ delta(1.0)\n",
      "cosmological_parameters--tau      ~ delta(0.08)\n",
      "supernova_params--m               ~ U(-21.0, -18.0)\n",
      "\n",
      "****************************\n",
      "* Running sampler 1/1: emcee\n",
      "* Running in serial mode.\n",
      "* Saving output -> output/pantheon.txt\n",
      "* Note: You set resume=T but the file output/pantheon.txt does not exist so I will start a new one\n",
      "****************************************************\n",
      "Begun sampling\n",
      "Done 10 iterations of emcee. Acceptance fraction 0.738\n",
      "Done 20 iterations of emcee. Acceptance fraction 0.695\n",
      "Done 30 iterations of emcee. Acceptance fraction 0.664\n",
      "Done 40 iterations of emcee. Acceptance fraction 0.649\n",
      "Done 50 iterations of emcee. Acceptance fraction 0.638\n",
      "Done 60 iterations of emcee. Acceptance fraction 0.634\n",
      "Done 70 iterations of emcee. Acceptance fraction 0.633\n",
      "Done 80 iterations of emcee. Acceptance fraction 0.625\n",
      "Done 90 iterations of emcee. Acceptance fraction 0.615\n",
      "Done 100 iterations of emcee. Acceptance fraction 0.614\n",
      "Done 110 iterations of emcee. Acceptance fraction 0.609\n",
      "Done 120 iterations of emcee. Acceptance fraction 0.607\n",
      "Done 130 iterations of emcee. Acceptance fraction 0.606\n",
      "Done 140 iterations of emcee. Acceptance fraction 0.605\n",
      "Done 150 iterations of emcee. Acceptance fraction 0.597\n",
      "Done 160 iterations of emcee. Acceptance fraction 0.597\n",
      "Done 170 iterations of emcee. Acceptance fraction 0.595\n",
      "Done 180 iterations of emcee. Acceptance fraction 0.596\n",
      "Done 190 iterations of emcee. Acceptance fraction 0.595\n",
      "Done 200 iterations of emcee. Acceptance fraction 0.595\n",
      "Done 210 iterations of emcee. Acceptance fraction 0.594\n",
      "Done 220 iterations of emcee. Acceptance fraction 0.593\n",
      "Done 230 iterations of emcee. Acceptance fraction 0.592\n",
      "Done 240 iterations of emcee. Acceptance fraction 0.591\n",
      "Done 250 iterations of emcee. Acceptance fraction 0.593\n",
      "Done 260 iterations of emcee. Acceptance fraction 0.593\n",
      "Done 270 iterations of emcee. Acceptance fraction 0.591\n",
      "Done 280 iterations of emcee. Acceptance fraction 0.591\n",
      "Done 290 iterations of emcee. Acceptance fraction 0.591\n",
      "Done 300 iterations of emcee. Acceptance fraction 0.588\n"
     ]
    },
    {
     "data": {
      "text/plain": [
       "0"
      ]
     },
     "execution_count": 3,
     "metadata": {},
     "output_type": "execute_result"
    }
   ],
   "source": [
    "cosmosis.run_cosmosis(\"examples/pantheon.ini\")"
   ]
  },
  {
   "cell_type": "markdown",
   "id": "ba6f4aa8",
   "metadata": {},
   "source": [
    "Reading the printed output\n",
    "------------------------------\n",
    "\n",
    "The printed shows us several things:\n",
    "\n",
    "- Information from the setup phase of the modules (see below).\n",
    "\n",
    "- Priors on our parameters, uniform (U) and fixed (delta).\n",
    "\n",
    "- Details about the sampler and where its output will go.\n",
    "\n",
    "- The progress of the sampling.\n",
    "\n",
    "\n",
    "Getting output directly\n",
    "--------------------------\n",
    "\n",
    "By default CosmoSIS saves output to a file, but you can get the output directly in python by setting the output parameter. The simplest choice for it is `astropy`, which will give you an astropy table of the results.\n",
    "\n",
    "Note that in this form the chain can't resume from an existing run, so for larger or slower runs it's wiser to save to file."
   ]
  },
  {
   "cell_type": "code",
   "execution_count": 4,
   "id": "7e245ee9",
   "metadata": {},
   "outputs": [
    {
     "name": "stderr",
     "output_type": "stream",
     "text": [
      "INFO:root:Generating starting positions in small ball around starting point\n"
     ]
    },
    {
     "name": "stdout",
     "output_type": "stream",
     "text": [
      "Setting up pipeline from parameter file examples/pantheon.ini\n",
      "-------------------------------------------------------------\n",
      "Loading Pantheon data from /Users/jzuntz/src/cosmosis/cosmosis-standard-library/likelihood/pantheon/lcparam_DS17f.txt\n",
      "Found 40 Pantheon supernovae (or bins if you used the binned data file)\n",
      "Loading Pantheon covariance from /Users/jzuntz/src/cosmosis/cosmosis-standard-library/likelihood/pantheon/sys_DS17f.txt\n",
      "Likelihood \"riess21\" will be Gaussian 0.732 +/- 0.013 \n",
      "\n",
      "Parameter Priors\n",
      "----------------\n",
      "cosmological_parameters--omega_m  ~ U(0.15, 0.4)\n",
      "cosmological_parameters--h0       ~ U(0.6, 0.8)\n",
      "cosmological_parameters--w        ~ delta(-1.0)\n",
      "cosmological_parameters--omega_b  ~ delta(0.04)\n",
      "cosmological_parameters--omega_k  ~ U(-0.3, 0.3)\n",
      "cosmological_parameters--a_s      ~ delta(2e-09)\n",
      "cosmological_parameters--n_s      ~ delta(1.0)\n",
      "cosmological_parameters--tau      ~ delta(0.08)\n",
      "supernova_params--m               ~ U(-21.0, -18.0)\n",
      "\n",
      "****************************\n",
      "* Running sampler 1/1: emcee\n",
      "* Running in serial mode.\n",
      "****************************************************\n",
      "Begun sampling\n",
      "Done 10 iterations of emcee. Acceptance fraction 0.741\n",
      "Done 20 iterations of emcee. Acceptance fraction 0.684\n",
      "Done 30 iterations of emcee. Acceptance fraction 0.671\n",
      "Done 40 iterations of emcee. Acceptance fraction 0.642\n",
      "Done 50 iterations of emcee. Acceptance fraction 0.633\n",
      "Done 60 iterations of emcee. Acceptance fraction 0.627\n",
      "Done 70 iterations of emcee. Acceptance fraction 0.622\n",
      "Done 80 iterations of emcee. Acceptance fraction 0.618\n",
      "Done 90 iterations of emcee. Acceptance fraction 0.616\n",
      "Done 100 iterations of emcee. Acceptance fraction 0.613\n",
      "Done 110 iterations of emcee. Acceptance fraction 0.606\n",
      "Done 120 iterations of emcee. Acceptance fraction 0.607\n",
      "Done 130 iterations of emcee. Acceptance fraction 0.605\n",
      "Done 140 iterations of emcee. Acceptance fraction 0.602\n",
      "Done 150 iterations of emcee. Acceptance fraction 0.600\n",
      "Done 160 iterations of emcee. Acceptance fraction 0.600\n",
      "Done 170 iterations of emcee. Acceptance fraction 0.597\n",
      "Done 180 iterations of emcee. Acceptance fraction 0.598\n",
      "Done 190 iterations of emcee. Acceptance fraction 0.596\n",
      "Done 200 iterations of emcee. Acceptance fraction 0.595\n",
      "Done 210 iterations of emcee. Acceptance fraction 0.596\n",
      "Done 220 iterations of emcee. Acceptance fraction 0.595\n",
      "Done 230 iterations of emcee. Acceptance fraction 0.596\n",
      "Done 240 iterations of emcee. Acceptance fraction 0.595\n",
      "Done 250 iterations of emcee. Acceptance fraction 0.594\n",
      "Done 260 iterations of emcee. Acceptance fraction 0.595\n",
      "Done 270 iterations of emcee. Acceptance fraction 0.594\n",
      "Done 280 iterations of emcee. Acceptance fraction 0.593\n",
      "Done 290 iterations of emcee. Acceptance fraction 0.592\n",
      "Done 300 iterations of emcee. Acceptance fraction 0.590\n"
     ]
    }
   ],
   "source": [
    "status, output = cosmosis.run_cosmosis(\"examples/pantheon.ini\", output=\"astropy\")"
   ]
  },
  {
   "cell_type": "markdown",
   "id": "421dd75d",
   "metadata": {},
   "source": [
    "Our table contains the cosmological parameters that were varied during the chain. The one in capital letters is a derived parameter calculated from the others.\n",
    "\n",
    "Now we can plot some results directly from this table:"
   ]
  },
  {
   "cell_type": "code",
   "execution_count": 5,
   "id": "3757a46c",
   "metadata": {},
   "outputs": [
    {
     "data": {
      "image/png": "[encoded data removed]",
      "text/plain": [
       "<Figure size 640x480 with 1 Axes>"
      ]
     },
     "metadata": {},
     "output_type": "display_data"
    },
    {
     "data": {
      "image/png": "[encoded data removed]",
      "text/plain": [
       "<Figure size 640x480 with 1 Axes>"
      ]
     },
     "metadata": {},
     "output_type": "display_data"
    }
   ],
   "source": [
    "plt.plot(output[\"cosmological_parameters--omega_m\"], ',')\n",
    "\n",
    "# The plot will show the chain is not burnt in until about 3000 samples\n",
    "burn = 3000\n",
    "plt.axvline(burn, color='r')\n",
    "chain = output[burn:]\n",
    "\n",
    "# A histogram shows us posterior constraints\n",
    "plt.figure()\n",
    "plt.hist(chain['cosmological_parameters--omega_m'], bins=25);"
   ]
  },
  {
   "cell_type": "markdown",
   "id": "51adf64d",
   "metadata": {},
   "source": [
    "Customizing runs\n",
    "==============\n",
    "\n",
    "We can modify the choices made in the analysis by changing the parameters or values\n",
    "\n",
    "The parameters configure the *pipeline*, *modules*, and the *sampler*.  Here they read directly from `examples/pantheon.ini`\n",
    "\n",
    "The values defines the numerical parameters that might be varied in the sampling process. The name of the values file is set in the parameter file, in the `values` option in the `pipeline` section.\n",
    "\n",
    "Instead of having CosmoSIS read these from the file for us, we can also read them ourselves and modify them"
   ]
  },
  {
   "cell_type": "code",
   "execution_count": 6,
   "id": "45c7ff7b",
   "metadata": {},
   "outputs": [
    {
     "name": "stdout",
     "output_type": "stream",
     "text": [
      "Sections in the file:\n",
      "     runtime\n",
      "     emcee\n",
      "     polychord\n",
      "     multinest\n",
      "     output\n",
      "     pipeline\n",
      "     maxlike\n",
      "     metropolis\n",
      "     test\n",
      "     astropy\n",
      "     camb\n",
      "     pantheon\n",
      "     riess21\n",
      "     consistency\n",
      "\n",
      "\n",
      "Options in the [camb] section, for example:\n",
      "     file = boltzmann/camb/camb_interface.py\n",
      "     mode = background\n",
      "     feedback = 0\n",
      "     nz_background = 200\n",
      "     zmin_background = 0.0\n",
      "     zmax_background = 2.0\n"
     ]
    }
   ],
   "source": [
    "ini = cosmosis.Inifile(\"examples/pantheon.ini\")\n",
    "\n",
    "# Print a summary of the contents:\n",
    "print(\"Sections in the file:\")\n",
    "for section in ini.sections():\n",
    "    print(\"    \", section)\n",
    "print(\"\\n\")\n",
    "print(\"Options in the [camb] section, for example:\")\n",
    "for key, value in ini.items('camb'):\n",
    "    print(\"    \", key, \"=\", value)"
   ]
  },
  {
   "cell_type": "markdown",
   "id": "fe0a68c9",
   "metadata": {},
   "source": [
    "Let's change to use a different sampler, called nautilus."
   ]
  },
  {
   "cell_type": "code",
   "execution_count": 7,
   "id": "43c2f66f",
   "metadata": {},
   "outputs": [],
   "source": [
    "ini['runtime', 'sampler'] = 'nautilus'\n",
    "ini['runtime', 'resume'] = 'False'\n"
   ]
  },
  {
   "cell_type": "code",
   "execution_count": 8,
   "id": "cdeb48d8",
   "metadata": {
    "scrolled": true
   },
   "outputs": [
    {
     "name": "stdout",
     "output_type": "stream",
     "text": [
      "Setting up pipeline from pre-constructed configuration\n",
      "------------------------------------------------------\n",
      "Setting up pipeline from pre-constructed configuration\n",
      "Loading Pantheon data from /Users/jzuntz/src/cosmosis/cosmosis-standard-library/likelihood/pantheon/lcparam_DS17f.txt\n",
      "Found 40 Pantheon supernovae (or bins if you used the binned data file)\n",
      "Loading Pantheon covariance from /Users/jzuntz/src/cosmosis/cosmosis-standard-library/likelihood/pantheon/sys_DS17f.txt\n",
      "Likelihood \"riess21\" will be Gaussian 0.732 +/- 0.013 \n",
      "\n",
      "Parameter Priors\n",
      "----------------\n",
      "cosmological_parameters--omega_m  ~ U(0.15, 0.4)\n",
      "cosmological_parameters--h0       ~ U(0.6, 0.8)\n",
      "cosmological_parameters--w        ~ delta(-1.0)\n",
      "cosmological_parameters--omega_b  ~ delta(0.04)\n",
      "cosmological_parameters--omega_k  ~ U(-0.3, 0.3)\n",
      "cosmological_parameters--a_s      ~ delta(2e-09)\n",
      "cosmological_parameters--n_s      ~ delta(1.0)\n",
      "cosmological_parameters--tau      ~ delta(0.08)\n",
      "supernova_params--m               ~ U(-21.0, -18.0)\n",
      "\n",
      "*******************************\n",
      "* Running sampler 1/1: nautilus\n",
      "* Running in serial mode.\n",
      "****************************************************\n"
     ]
    }
   ],
   "source": [
    "status, chain2 = cosmosis.run_cosmosis(ini, output='astropy')"
   ]
  },
  {
   "cell_type": "code",
   "execution_count": 9,
   "id": "fd4e6faa",
   "metadata": {},
   "outputs": [
    {
     "name": "stdout",
     "output_type": "stream",
     "text": [
      "<Table length=32700>\n",
      "              name                dtype \n",
      "-------------------------------- -------\n",
      "cosmological_parameters--omega_m float64\n",
      "     cosmological_parameters--h0 float64\n",
      "cosmological_parameters--omega_k float64\n",
      "             supernova_params--m float64\n",
      "  COSMOLOGICAL_PARAMETERS--OMMH2 float64\n",
      "                      log_weight float64\n",
      "                           prior float64\n",
      "                            post float64\n"
     ]
    }
   ],
   "source": [
    "chain2.info()"
   ]
  },
  {
   "cell_type": "code",
   "execution_count": 10,
   "id": "e6a1afd4",
   "metadata": {},
   "outputs": [
    {
     "data": {
      "image/png": "[encoded data removed]",
      "text/plain": [
       "<Figure size 640x480 with 1 Axes>"
      ]
     },
     "metadata": {},
     "output_type": "display_data"
    }
   ],
   "source": [
    "plt.hist(chain2['cosmological_parameters--omega_m'], weights=np.exp(chain2['log_weight']), bins=20);\n"
   ]
  }
 ],
 "metadata": {
  "kernelspec": {
   "display_name": "Python 3 (ipykernel)",
   "language": "python",
   "name": "python3"
  },
  "language_info": {
   "codemirror_mode": {
    "name": "ipython",
    "version": 3
   },
   "file_extension": ".py",
   "mimetype": "text/x-python",
   "name": "python",
   "nbconvert_exporter": "python",
   "pygments_lexer": "ipython3",
   "version": "3.11.3"
  }
 },
 "nbformat": 4,
 "nbformat_minor": 5
}
